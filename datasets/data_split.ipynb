{
 "cells": [
  {
   "cell_type": "code",
   "execution_count": 37,
   "source": [
    "import os\n",
    "import numpy as np\n",
    "import pandas as pd\n",
    "from sklearn.model_selection import StratifiedKFold\n",
    "import random"
   ],
   "outputs": [],
   "metadata": {}
  },
  {
   "cell_type": "code",
   "execution_count": 39,
   "source": [
    "label_names = ['coronal', 'horizontal', 'sagittal']\n",
    "image_names = []\n",
    "labels = []\n",
    "image_dir_set = {'mouse_brain_challenge': '/Users/HemingY/Documents/brain_classification/data/mouse_brain_challenge'}\n",
    "save_root = '/Users/HemingY/Documents/brain_classification/data/split/'\n",
    "\n",
    "if not os.path.exists(save_root):\n",
    "    os.mkdir(save_root)\n",
    "\n",
    "for key, image_dir in image_dir_set.items():\n",
    "    if key == 'mouse_brain_challenge':\n",
    "        for label_idx, label_name in enumerate(label_names):\n",
    "            file_names = os.listdir(os.path.join(image_dir, label_name))\n",
    "            file_names = [os.path.join(image_dir, label_name, name) for name in file_names if name.endswith('.jpg')]\n",
    "            image_names.extend(file_names)\n",
    "            labels.extend([label_idx]*len(file_names))\n",
    "\n",
    "\n",
    "data = list(zip(image_names, labels))\n",
    "random.shuffle(data)\n",
    "image_names, labels = zip(*data)\n"
   ],
   "outputs": [],
   "metadata": {}
  },
  {
   "cell_type": "code",
   "execution_count": 40,
   "source": [
    "num_splits = 5\n",
    "skf = StratifiedKFold(n_splits=num_splits)\n",
    "for i, (train_index, test_index) in enumerate(skf.split(image_names, labels)):\n",
    "    X_train, X_test = np.take(image_names, train_index), np.take(image_names, test_index)\n",
    "    y_train, y_test = np.take(labels, train_index), np.take(labels, test_index)\n",
    "\n",
    "    table_train = pd.DataFrame.from_dict({'image_names': X_train, 'labels': y_train})\n",
    "    table_train.to_csv(os.path.join(save_root, f'fold_{i}_train.csv'))\n",
    "\n",
    "    table_train = pd.DataFrame.from_dict({'image_names': X_test, 'labels': y_test})\n",
    "    table_train.to_csv(os.path.join(save_root, f'fold_{i}_val.csv'))\n"
   ],
   "outputs": [],
   "metadata": {}
  }
 ],
 "metadata": {
  "kernelspec": {
   "name": "python3",
   "display_name": "Python 3.9.6 64-bit ('brain': conda)"
  },
  "language_info": {
   "name": "python",
   "version": "3.7.11",
   "mimetype": "text/x-python",
   "codemirror_mode": {
    "name": "ipython",
    "version": 3
   },
   "pygments_lexer": "ipython3",
   "nbconvert_exporter": "python",
   "file_extension": ".py"
  },
  "interpreter": {
   "hash": "d989315eb06005b9b2de004cad344950cf08b398e64522b1af35c3fbac26a5f7"
  }
 },
 "nbformat": 4,
 "nbformat_minor": 5
}